{
 "cells": [
  {
   "cell_type": "markdown",
   "metadata": {},
   "source": [
    "# Bioinformatics With Python Cookbook\n",
    "## Cap. 2 - NGS\n",
    "\n",
    "Neste capítulo será utilizado um conjunto de dados advindo de WGS e o projeto 1000 Genomes. \n",
    "\n",
    "\n",
    "Antes de iniciar com os dados reais, vamos ficar confortáveis em acessar banco de dados genomicos existentes, além de proceder ao processamento básico de sequências.  \n",
    "\n",
    "\n",
    "## Acessando o GenBank e NCBI"
   ]
  },
  {
   "cell_type": "code",
   "execution_count": 1,
   "metadata": {},
   "outputs": [],
   "source": [
    "from Bio import Entrez, SeqIO"
   ]
  },
  {
   "cell_type": "code",
   "execution_count": 2,
   "metadata": {},
   "outputs": [],
   "source": [
    "# E-mail usado para acessar Entrez.\n",
    "Entrez.email = 'araujowash@gmail.com'"
   ]
  },
  {
   "cell_type": "code",
   "execution_count": 4,
   "metadata": {},
   "outputs": [
    {
     "name": "stdout",
     "output_type": "stream",
     "text": [
      "DictElement({'DbList': ['pubmed', 'protein', 'nuccore', 'ipg', 'nucleotide', 'nucgss', 'nucest', 'structure', 'sparcle', 'genome', 'annotinfo', 'assembly', 'bioproject', 'biosample', 'blastdbinfo', 'books', 'cdd', 'clinvar', 'clone', 'gap', 'gapplus', 'grasp', 'dbvar', 'gene', 'gds', 'geoprofiles', 'homologene', 'medgen', 'mesh', 'ncbisearch', 'nlmcatalog', 'omim', 'orgtrack', 'pmc', 'popset', 'probe', 'proteinclusters', 'pcassay', 'biosystems', 'pccompound', 'pcsubstance', 'pubmedhealth', 'seqannot', 'snp', 'sra', 'taxonomy', 'biocollections', 'unigene', 'gencoll', 'gtr']}, attributes={})\n"
     ]
    }
   ],
   "source": [
    "# Lista de bancos de dados disponíveis\n",
    "handle = Entrez.einfo()\n",
    "rec = Entrez.read(handle)\n",
    "print(rec)"
   ]
  },
  {
   "cell_type": "markdown",
   "metadata": {},
   "source": [
    "Achar **Cholroquine Resistance Transporter - CRT**, gene de _Plasmodium falciparum_ no banco de dados de nucleotídeos."
   ]
  },
  {
   "cell_type": "code",
   "execution_count": 5,
   "metadata": {},
   "outputs": [],
   "source": [
    "handle = Entrez.esearch(db = 'nucleotide', term = 'CRT[Gene Name] AND \"Plasmodium falciparum\"[Organism]')\n",
    "\n",
    "rec_list = Entrez.read(handle)\n",
    "if rec_list['RetMax'] < rec_list['Count']:\n",
    "    handle = Entrez.esearch(db='nucleotide', term='CRT[Gene Name] AND \"Plasmodium falciparum\"[Organism]', \n",
    "                            retmax=rec_list['Count'])\n",
    "    rec_list = Entrez.read(handle)\n"
   ]
  },
  {
   "cell_type": "markdown",
   "metadata": {},
   "source": [
    "1. Inicia-se pesquisando no banco de dados colocando o nome do gene e do organismo.   \n",
    "Então, lê-se o resultado retornado.     \n",
    "O número de referências retornado é 20 em uma busca padrão, então, se você quer mais, repita a busca (_query_) usando um limite máximo aumentado.  \n",
    "Neste nosso caso, nós sobrescreveremos o limite padrão com **retmax**.  \n",
    "\n",
    "2. O sistema Entrez provê várias formas sofisticadas de recuperar grande número de resultados.   \n",
    "Embora agora tenhamos os IDs de todos os registros, ainda é necessário recupearar os registros propriamente ditos. \n",
    "\n",
    "3. Vamos tentar recuperar todos estes registros (_records_).   \n",
    "A seguinte _query_ fará o _download_ de todas as sequências de nucleotídeos correspondentes no GenBank."
   ]
  },
  {
   "cell_type": "code",
   "execution_count": 6,
   "metadata": {},
   "outputs": [],
   "source": [
    "id_list = rec_list['IdList']\n",
    "hdl = Entrez.efetch(db = 'nucleotide', id = id_list, rettype = 'gb')"
   ]
  },
  {
   "cell_type": "markdown",
   "metadata": {},
   "source": [
    "Bem, neste caso, vá em frente e faça. No entanto, tenha cuidado com essa técnica, porque você recuperará uma grande quantidade de registros completos e alguns deles terão seqüências razoavelmente grandes. Você corre o risco de baixar muitos dados (ambos são uma sobrecarga do seu lado e em servidores NCBI).\n",
    "\n",
    "Existem várias maneiras de contornar isso. Uma maneira é fazer uma consulta mais restritiva e / ou baixar apenas alguns de cada vez e parar quando você encontrar o que é suficiente. A estratégia precisa dependerá do que você está tentando alcançar. Em qualquer caso, vamos recuperar uma lista de registros no formato GenBank (que inclui sequências e muitos metadados interessantes).  \n",
    "\n",
    "4. **Vamos ler e fazer _parse_ dos resultados:**"
   ]
  },
  {
   "cell_type": "code",
   "execution_count": 7,
   "metadata": {},
   "outputs": [],
   "source": [
    "recs = list(SeqIO.parse(hdl, 'gb'))"
   ]
  },
  {
   "cell_type": "markdown",
   "metadata": {},
   "source": [
    "Observe que convertemos um iterador (o resultado de SeqIO.parse) em uma lista. A vantagem é que podemos usar o resultado quantas vezes quisermos (por exemplo, iterar várias vezes), sem repetir a consulta no servidor. Isso economiza tempo, largura de banda e uso do servidor se você planeja iterar várias vezes.\n",
    "\n",
    "A desvantagem é que ele alocará memória para todos os registros. Isso não funcionará para conjuntos de dados muito grandes; talvez você não queira fazer esse tipo de _Genome Wide_ no próximo capítulo. Voltaremos a este tópico na última parte do livro.\n",
    "\n",
    "Se você está fazendo computação interativa, provavelmente preferirá ter uma lista (para que você possa analisar e experimentar várias vezes), mas se você estiver desenvolvendo uma biblioteca, um iterador provavelmente será a melhor abordagem.\n",
    "\n",
    "5. Iremos nos concentrar em um registro simples.   \n",
    "Isso só funcionará se você utilizar exatamente a mesma _query_:"
   ]
  },
  {
   "cell_type": "code",
   "execution_count": 8,
   "metadata": {},
   "outputs": [
    {
     "name": "stdout",
     "output_type": "stream",
     "text": [
      "KM288867\n",
      "Plasmodium falciparum clone PF3D7_0709000 chloroquine resistance transporter (CRT) gene, complete cds\n"
     ]
    }
   ],
   "source": [
    "for rec in recs:\n",
    "    if rec.name == 'KM288867':\n",
    "        break\n",
    "        \n",
    "# The rec variable now has our record of interest. \n",
    "# The rec.description will contain its human-readable description.\n",
    "print(rec.name)\n",
    "print(rec.description)"
   ]
  },
  {
   "cell_type": "markdown",
   "metadata": {},
   "source": [
    "6. Vamos extrair algumas características de sequências (produtos gênicos e posições de exons)."
   ]
  },
  {
   "cell_type": "code",
   "execution_count": 9,
   "metadata": {},
   "outputs": [
    {
     "name": "stdout",
     "output_type": "stream",
     "text": [
      "Não processado:\n",
      "type: source\n",
      "location: [0:10000](+)\n",
      "qualifiers:\n",
      "    Key: clone, Value: ['PF3D7_0709000']\n",
      "    Key: db_xref, Value: ['taxon:5833']\n",
      "    Key: mol_type, Value: ['genomic DNA']\n",
      "    Key: organism, Value: ['Plasmodium falciparum']\n",
      "\n",
      "['CRT']\n",
      "Não processado:\n",
      "type: mRNA\n",
      "location: join{[2751:3543](+), [3720:3989](+), [4168:4341](+), [4513:4646](+), [4799:4871](+), [4994:5070](+), [5166:5249](+), [5376:5427](+), [5564:5621](+), [5769:5862](+), [6055:6100](+), [6247:6302](+), [6471:7598](+)}\n",
      "qualifiers:\n",
      "    Key: gene, Value: ['CRT']\n",
      "    Key: product, Value: ['chloroquine resistance transporter']\n",
      "\n",
      "Não processado:\n",
      "type: 5'UTR\n",
      "location: [2751:3452](+)\n",
      "qualifiers:\n",
      "    Key: gene, Value: ['CRT']\n",
      "\n",
      "Não processado:\n",
      "type: primer_bind\n",
      "location: [2935:2958](+)\n",
      "qualifiers:\n",
      "\n",
      "Não processado:\n",
      "type: primer_bind\n",
      "location: [3094:3121](+)\n",
      "qualifiers:\n",
      "\n",
      "Não processado:\n",
      "type: CDS\n",
      "location: join{[3452:3543](+), [3720:3989](+), [4168:4341](+), [4513:4646](+), [4799:4871](+), [4994:5070](+), [5166:5249](+), [5376:5427](+), [5564:5621](+), [5769:5862](+), [6055:6100](+), [6247:6302](+), [6471:6548](+)}\n",
      "qualifiers:\n",
      "    Key: codon_start, Value: ['1']\n",
      "    Key: gene, Value: ['CRT']\n",
      "    Key: product, Value: ['chloroquine resistance transporter']\n",
      "    Key: protein_id, Value: ['AIW62921.1']\n",
      "    Key: translation, Value: ['MKFASKKNNQKNSSKNDERYRELDNLVQEGNGSRLGGGSCLGKCAHVFKLIFKEIKDNIFIYILSIIYLSVCVMNKIFAKRTLNKIGNYSFVTSETHNFICMIMFFIVYSLFGNKKGNSKERHRSFNLQFFAISMLDACSVILAFIGLTRTTGNIQSFVLQLSIPINMFFCFLILRYRYHLYNYLGAVIIVVTIALVEMKLSFETQEENSIIFNLVLISALIPVCFSNMTREIVFKKYKIDILRLNAMVSFFQLFTSCLILPVYTLPFLKQLHLPYNEIWTNIKNGFACLFLGRNTVVENCGLGMAKLCDDCDGAWKTFALFSFFNICDNLITSYIIDKFSTMTYTIVSCIQGPAIAIAYYFKFLAGDVVREPRLLDFVTLFGYLFGSIIYRVGNIILERKKMRNEENEDSEGELTNVDSIITQ']\n",
      "\n",
      "Exon 3452 3543 1\n",
      "Exon 3720 3989 1\n",
      "Exon 4168 4341 1\n",
      "Não processado:\n",
      "type: primer_bind\n",
      "location: [4288:4323](-)\n",
      "qualifiers:\n",
      "\n",
      "Exon 4513 4646 1\n",
      "Exon 4799 4871 1\n",
      "Exon 4994 5070 1\n",
      "Exon 5166 5249 1\n",
      "Exon 5376 5427 1\n",
      "Exon 5564 5621 1\n",
      "Exon 5769 5862 1\n",
      "Exon 6055 6100 1\n",
      "Exon 6247 6302 1\n",
      "Exon 6471 6548 1\n",
      "Não processado:\n",
      "type: 3'UTR\n",
      "location: [6548:7598](+)\n",
      "qualifiers:\n",
      "    Key: gene, Value: ['CRT']\n",
      "\n",
      "Não processado:\n",
      "type: primer_bind\n",
      "location: [7833:7856](-)\n",
      "qualifiers:\n",
      "\n"
     ]
    }
   ],
   "source": [
    "for feature in rec.features:\n",
    "    if feature.type == 'gene':\n",
    "        print(feature.qualifiers['gene'])\n",
    "    elif feature.type == 'exon':\n",
    "        loc = feature.location\n",
    "        print('Exon', loc.start, loc.end, loc.strand)\n",
    "    else:\n",
    "        print('Não processado:\\n%s' % feature)"
   ]
  },
  {
   "cell_type": "markdown",
   "metadata": {},
   "source": [
    "Se o tipo de recurso for gene, imprimiremos seu nome, que estará no dicionário de qualificadores.\n",
    "\n",
    "Também vamos imprimir todos os locais dos exons. Os exons, assim como todos os recursos, têm localizações nessa sequência: um começo, um fim e a fita de onde são lidos. Embora todas as posições inicial e final de nossos exons sejam `ExactPosition`, observe que o Biopython suporta muitos outros tipos de posições.\n",
    "\n",
    "Um tipo de posição é `BeforePosition`, que especifica que um ponto de localização é antes de uma determinada posição de sequência. Outro tipo de posição é `BetweenPosition`, que fornece o intervalo para um determinado local de início / fim. Existem mais alguns tipos de posição; estas são apenas alguns exemplos. As coordenadas serão especificadas para que você possa recuperar a sequência de um array Python com intervalos facilmente, então geralmente o início será um antes que o valor no registro e o final sejam iguais. A questão dos sistemas de coordenadas será revisitada em futuras receitas.\n",
    "\n",
    "\n",
    "Para outros tipos de recursos, nós simplesmente os imprimimos. Observe que o Biopython fornecerá uma versão legível do recurso quando você imprimi-lo."
   ]
  },
  {
   "cell_type": "markdown",
   "metadata": {},
   "source": [
    "7. Observaremos as anotações nos registros, as quais são principalmente metadados que não estão relacionadas às posições de sequências. "
   ]
  },
  {
   "cell_type": "code",
   "execution_count": 11,
   "metadata": {},
   "outputs": [
    {
     "name": "stdout",
     "output_type": "stream",
     "text": [
      "molecule_type = DNA\n",
      "topology = linear\n",
      "data_file_division = INV\n",
      "date = 12-NOV-2014\n",
      "accessions = ['KM288867']\n",
      "sequence_version = 1\n",
      "keywords = ['']\n",
      "source = Plasmodium falciparum (malaria parasite P. falciparum)\n",
      "organism = Plasmodium falciparum\n",
      "taxonomy = ['Eukaryota', 'Alveolata', 'Apicomplexa', 'Aconoidasida', 'Haemosporida', 'Plasmodiidae', 'Plasmodium', 'Plasmodium (Laverania)']\n",
      "references = [Reference(title='Versatile control of Plasmodium falciparum gene expression with an inducible protein-RNA interaction', ...), Reference(title='Direct Submission', ...)]\n"
     ]
    }
   ],
   "source": [
    "for name, value in rec.annotations.items():\n",
    "    print('%s = %s' % (name, value))"
   ]
  },
  {
   "cell_type": "markdown",
   "metadata": {},
   "source": [
    "8. Por fim, mas não menos importante, você pode acessar um pedaço fundamental de informação, a sequência:   "
   ]
  },
  {
   "cell_type": "code",
   "execution_count": 12,
   "metadata": {},
   "outputs": [],
   "source": [
    "sequence = rec.seq"
   ]
  },
  {
   "cell_type": "code",
   "execution_count": 13,
   "metadata": {},
   "outputs": [
    {
     "name": "stdout",
     "output_type": "stream",
     "text": [
      "ATATGTAAAACCAAAATAAATTAAACAGAATTTATTTTTAAAAGATTTATTTGTAACAATATTACCATGATGATTTATTAAAGTAAAATCACCACCTATTAATGGTTTTCCTATACTTTCCATTGTAGTTTTTCCAAAACCTTTTTTTTTATTTTTCTCATTTTGTAATAAATATAAATATAAATATAATGCTGGTATCGTTAATGATAAATTAATACCTAAACATTTCCATGTTAAAAATATATTTTTCTTTTTCGACTTTTTTTTATTATCATTTTCATCCTCAACTTTTTTACTCATACTACTATAATCATTTCTTATAAAACTTTTATAAAATATATTTTCCCTTTTTTTATAATTTCTACTAGTATCATAAACAATATTTCTTATATTCAATAATACATTAAAATTGTTATATCCATTTTTTTTTTTATTACATATTTTGTTTAAGCTATTTAAAAGCACCTTATTCATTTTTGAAATAATGAAACAGCAAAAAAACAAAAATAACGTAAACAATTATGATGTACATAAAATATATATATATATATATATATATATATATTATTTATATATTATTCACATTTACATTTATTTATTTATATCTTCCTATTTTATACGATAAAATAAATTCGATTTAAATAAAATATACGTTAAATTAAATTCTTATATCTTAACATTTCGACATACATTTATTAATTGATTTTATTTTATTTATTTTGTTATATCCATATAAATAAACGTATCGCACATGAGTTTTTTTTTTTTTTTTTTTTTTTTTTTATATAATACTTTTTAATAGTGAAACACATACATATTTTTTACCATTTTAAATATATATATGGTGTACCATTTTGGGTTAATATATTTTTTGTAATTATATATTAATATATACATAATAAATATAAATTAATATTATATATATATATATATATATATATATAAATAATTGGAGTGTCCTATTTTGAAGCTATGTCCTTTGGAATACAGCACTTTACAAAAAAAAAATTATTTTATAATAAATGGAAAAAAAAGAACAGAACAAAATAATACATATTTATATTTAATACCAAAAAAAAAAGAAAAAAAAAAGAAAAAGAAAAAAAAAAAACTCCTATATATATATTATAAACGAATTACATCCTAATTTTTTTTTTTTTCTTCTTTTTAAATATAATAATTATTTATATGCCATATTTATTTATTATACATATATATATATATATATATATATATATATTACATTAAAAAATTAAAAAAAAGTAATATATTAAATAATATGTTCGTATTTTTTTTATTTATGTTTGTATTTTTATTTTTTTGTATAATCTATGAAAAGAAATAATTACCTATATAATATATTATATAATATATATATATATATATAGTCTAAATAAAAAAATACATATAAAATATATATACAGTATCAAAAAAATGTAATGTATAAAAAATAAAATATTGGGGGTAGAGAAATATTTTTATAAGGGTTAAATAATAGGCCTATTTTGTTTTTATATACATTATGGCTTAAAAGAAGAAATATATATATATATATATAATTATAATTATATATAAAATTTTTTTTAAGGTTTTAAATAAATACATATTTATTTATGTATTAATATATTATATATATATATATATATATATATATTATATTACCACATTACCATAATATTAAATTATATATATATTATATATATATATATATATATATATATATTATATATATATATATATATATTAATTATATATATATAAATATTACCACATCATCATAATATTAAATTTATATATATATATATATATATATATTATAATAATAAATATAATTTTATACTTCAATTCTCATATTTCAATATATTCCTTTTAAAGCTCTAAATAGATTCTAAAAAATTAGAACCCTAAGAATATCAGCTCATATATATATGTAAATAAAAATAAAAGTAACTCCTACTGTATTTATATAATATTTAGAAATTTTATATAGTAGTTGAGTGATTCTATATACATATACATAAATAAATTACATAATATTATAAATTTTTTTTATATTATATTAGAATGTTTACTATATAAAAATAAATATTTTCTTATATATTTTTTTATTTTTCCATATGAAAAAAGAAATTTTTTATATATTTTTTTATTATATTTTATAAATAAAAAAGAACTTATACCTATTATTATTATTATATATAAAAAATATATATTTTTTATAAATTCCTATTTTTCCGATTATTTATTTATTTTTTTTTTTTATTGTTTAAAAATATATAAAAAAAATTCTTATATATTTAATATTATAAGTCCATAAATATATATAATTTATATAATTTATATATTTCCATACTTTTTTTATTATATATCATGAGATAAAATAAATTTCATATAGAAATCGTATTTATTTATTAATTTGATATATATTAATAAATAAATATTAATAATAATATGTTATATATATATATATATTTATTTAATTATTATATAGGAAACTATATATATATATATATTATATTTTTTTTTTTTTGAAATATAATAATATATAATATTATTCTAAAAATATCTATATTCTTATACTTGAACCTTTTTTTTTTTTTTTTTTTTTTTTTTTGACTTTCGATTGTTCATTCTGTTTATTGTATAAATATATAAATATATATATATTGTATATTTTATTACATATATTTTTTTTTTTTGAAAGTTAAGAATTTTAACTTAATAAAAAAAGTACATATATTTTTAATAAATGTCCTCCATTATATAAATTGTTATATAAAAGATTTTATATAATTTAAATAGAATTCATTTATAAACAAATTTGTTTATAAAAATATATTTATGTATATATAATATAAATATATATATTTATATATATATATATATATATATATTACTATATATATTTTTTTTTTTTTTTCCTTTTTTTTACTTTCCCAAGTTGTACTGCTTCTAAGCTTTTTTTAATAAACATATATATAATTTGTACAAATATTTTAGATTATATACATGATGTATATTTGAATATATTTTCTATATATTTGTGGTTCCATTTTTGTATATTATATATAATATATTTATATATATATTGATATGTCAATATTTGTATAACACATGAAGTTTTTGTTTTTTTTTTTTTTTTTTTTTTAATGGAGAATATTTAATAATATATGAAAAAAATTTTATATAAATATATATATATATATATATATATATATATATATATATGTATATATATTTATATATACATGTATGTTTTTTAAAAAGTTAAATAATTCTATAGATTATTTTCATTGTCTTCCACATATATGACATAAATATTTTAAAATCGACATTCCGATATATTATATTTTTAGACTATAATATCCGTTAATAATAAATACACGCAGTCATATTATTTATTATACATTCATTTATTATTTTGTTTTTTTTAATTTCTTACATATAACAAAATGAAATTCGCAAGTAAAAAAAATAATCAAAAAAATTCAAGCAAAAATGACGAGCGTTATAGAGAATTAGATAATTTAGTACAAGAAGGAAGTAAGTATCCAAAAATGGAAATATGGAATGATATAAATGAATAGATAAATCAACCTATTGGATATATATATATATATATATATATATATATATATATATATGTATACCCATATGTATTAATTTTTTTTTTTTTTTTTTTTTTTTTTTTTTTTTTTTTTCCCTTGTCGACCTTAACAGATGGCTCACGTTTAGGTGGAGGTTCTTGTCTTGGTAAATGTGCTCATGTGTTTAAACTTATTTTTAAAGAGATTAAGGATAATATTTTTATTTATATTTTAAGTATTATTTATTTAAGTGTATGTGTAATGAATAAAATTTTTGCTAAAAGAACTTTAAACAAAATTGGTAACTATAGTTTTGTAACATCCGAAACTCACAACTTTATTTGTATGATTATGTTCTTTATTGTTTATTCCTTATTTGGAAATAAAAAGGGAAATTCAAAAGTAAGATAAATCAATATATTAAAATGATGGATTTATAAGAGAATCTATTCCACCTACCAATATAAAACATTACACATATATATATATATATATATATATATATATATATATATATATATATGTATGTATGTTGATTAATTTGTTTATATATTTATATTTATTTCTTATGACCTTTTTAGGAACGACACCGAAGCTTTAATTTACAATTTTTTGCTATATCCATGTTAGATGCCTGTTCAGTCATTTTGGCCTTCATAGGTCTTACAAGAACTACTGGAAATATCCAATCATTTGTTCTTCAATTAAGTATTCCTATTAATATGTTCTTCTGCTTTTTAATATTAAGATATAGGTAAGTATACTATTTTAAATTACAAAAAAAAAAAAAAAAAAAAAAAAAAAAAAAAAAAAAAAAATATAAAATATATATATATATTTATATATATTTATTTATATATTTATATATATTTATTTATATATTTATATATTTATTTATTTATATTTATTTATTTACTCCTTTTTAGATATCACTTATACAATTATCTCGGAGCAGTTATTATTGTTGTAACAATAGCTCTTGTAGAAATGAAATTATCTTTTGAAACACAAGAAGAAAATTCTATCATATTTAATCTTGTCTTAATTAGTGCCTTAATTGTAAGAAAACAAAATATATAAATAAATAAATATATATATATATATATATATATTGTAATATTTAATATATATTAACACTTAAACTTTGTTTTTATTATATTAATTTATATTCTTTATCATTTTTTTTTTTTTTTTTCCTTCTTTTTTTTTTAGCCTGTATGCTTTTCAAACATGACAAGGGAAATAGTTTTTAAAAAATATAAGATTGACATTTTAAGATTAAATGTAAGAAGAAAAATATAATAATAATAATATATATATTATATATATATTTCCTTTTTTACCACTTTTTTTTTTTTTATTCCTATAACGCATTATAATTATTTCTGTTATTTTTATTTCTTATAGGCTATGGTATCCTTTTTCCAATTGTTCACTTCTTGTCTTATATTACCTGTATACACCCTTCCATTTTTAAAACAACGTAAGAATTAATTAGGAAAGAAAAAATAAAATAAAATGAAATGTGCCCATATATATATATATATATATGTATGTATGTATAATTTTCCCTTTTTAGTTCATTTACCATATAATGAAATATGGACAAATATAAAAAATGGTTTCGCATGTTTATTCTTGGGAAGAAACACAGTCGTAGAGGTAAAATAGGATTTTCATTATATATTAAAAATTACTACTTATTATGTTAATAAAAAAATATGTTTTTTAATGTTCAATTTGTTTTATTTTAATTATTTTTTTTTTTTTTGTTTTGTTTCCTCTTCAGAATTGTGGTCTTGGTATGGCTAAGTTATGTGATGATTGTGACGGAGCATGGGTAAGAAGCTTATAATAAAATTTCAAAATTATAAGAGACATTTATATATATTTTAACAATAATAATTAAATAAAACAATATTATATATATTATATATATTATTATTTTATTTATTATTTTTTATTTTTTTTTTTTAGAAAACCTTCGCATTGTTTTCCTTCTTTAACATTTGTGATAATTTAATAACCAGCTATGTAAGAATAAAAAGGATGAAAAACGTTGATACATACAAGAGGAAATAAATATGGGAATGTTTAATTGAATTAAGATATATATATATATATATATATATATATATATATATGTAACCATATAATTTTTCATTTTCTATGCTTTTTATAGATTATCGACAAATTTTCTACCATGACATATACTATTGTTAGTTGTATACAAGGTCCAGCAATAGCAATTGCTTATTACTTTAAATTCTTAGCCGTAAGAATTAAAAAGATATAAATATATAAATATATATGTGAAATATATGATATATATGATATATATTTTTTATATGTAATGTTTTTTTTTTTTTTCACAATATACATTTAAATGTTTATGATGGTACAACGTATCATATTTTATAATAATTTTATGCATTCATGTATATTATTTTTACTTTTTAATTTTATAGGGTGATGTTGTAAGAGAACCAAGATTATTAGATTTCGTAACTTTGGTAAGTGTGAAATTAAAAAATGAATTTTTTTTTTTTTTTTTTATGAACAAAATAATGTGTATATAATATGTGTGTAATATCAAATGGCTTGTTCGTTCATAAATATTTATATTTTTTTTTTTTTTTTTTTTTTTTTTTTTTTTACAGTTTGGCTACCTATTTGGTTCTATAATTTACCGTGTAGGAAATATTATCTTAGAAAGTAATACAAAAATAAGATAAAAAAATATAATATATAAAATATGTATATTGTTCTTATATATTTTGTTCATATATATATATATATATATATATATTTTTATATTTCCATCTGTCTTTTTATTCTATTGTTATAATTTATCATAAATTTTTTTTAAATTTGCTTACATTAGGAAAAAAAATGAGAAATGAAGAAAATGAAGATTCCGAAGGAGAATTAACCAACGTCGATTCAATTATTACACAATAAAATTATATCATTTATTTTTTTATATTTTTTATATTTTTTTTATTTTTCATGTTTTTTTCTTTATTTTTTTTTTTTTTTTTTTCCTTTTTTTTTTTAATAAATCATTTTCCTAATATTTATATTTGCTATCGCATTACACTTTATAAGGAATAATGTTGAAGGTATAGAGATCTCTTTATTATTATTAAGATGTAAATTTTTTATGAAATTTTGTACTTTTTTAGTATTTATATTATATACACATAAATATATATATATTTATTTATTGATATTTGAAAAAAGAATAAGGAAATAAAAAAAGGGAAAAAAAAAAAAGTTAAAAGTATATATATATATATATATATATATATTTATTTATTTATATATATTATTATGTATGTTTATAATTTATATATATATGTCATAAAAAGAAATATAATTATATATATATATATTATATTATATATATATATAAATTTTTTTAAATTATAAACTATTGTTATTGTTAAATTTAATTTTTAATTCATTAAAAATCAGATTACCAAAGATTTTTTCCATTCTTCAATCATGATAATAGAAATGAGAAGAAGCAAAAAAAGAAAAAAAAAAAAAATTCATACTGTGTCAAAGGAGCAAACAATTTTGTCCAATTGACAAATATGTATATATATAAAATATATATATATATATATATATATATATATATATATATATATATTTATTGATTTATTCCTTTTCTTTTTTTTTTCCCTTTTGGTGTTTTGATAAATAGGTAAAAAATAAAATATATAAAAATTATCTCTAACATTCGTAAAGATTTATTTTATTTTTTAATTTTTTCTATTTTATCAAGTTTGTAAATTATCATTTCATTAATGAAATAATAAGAATACAAAATGTTTTGTATTTGTTCTTGTTAAGAAGATTTTACAATTATATTTTTTTTTTTAATTTATTTTATAAAATATAATTAAGATTATATCTTCTAAAAGAAAAAAAAAAAAGAAAAAAGAAATATTTTGTATAATGAAATTTGAAATATCTTTCGCCACTTATTTCAAGTTTCAGTTATTTTATTTTATTTTATTTTTTTTTTTTTTTTCTTGCTTCTTCTCTTTCTTCTTGTATAATATTAGTTATCATCATCTTTTTAACGAATTAAATACAAAATAAATGTATTTTACTAAAAAAAGAAAAAAAAAAAAAAAAGTATGTTATATTTTTTTTTTTTTGTTAAATAATGCCTTATTCAAAGATAATGTTTTTTTAATAAAACAGAAATATTATTATATTTATTCTTATAAAATGGGTGGAATATATAAGGGTCAAAAAAAAAAAAAATAATAAAATAAATAAATAAATAAATAAAATATATAAATAAAATAATAATAAAATAAAAGGAATAAATAATTATATAATATATATATTATATATATATATTATGTATATATATTTTATATATTCCAGTATGTTCGCGATAAAAAAAAAAAAATATATTTAATAAATAAAAATTACAAGGACCAGAAAAATATATACTGCACATATATATATGTATATATATATATATATATATAATTATTTAATATAATAATTTTTTTGTAAATCCCATTGTATCATTAATATTGAAATTTAATTTCTTATTTCTTATTTTTTTTATATTACACATTCGTACATACATAATATATATATATATATATATAAGAGAAAATAATAAAACACGTTAATATATATATATATATATATATATATATTATATATATATATTTATTTATTTATTTATATATTATTACGCATTAATCATTTAAAGTACCATTTTGTATTTTTTTTTTTTTTTTTGAAGTTATATTATATATATATATATATATATAAAATATATCGAATAATGAAAAATATCAGAGTAAATATGATATAAAAGAAGATGTTTACTTTTCTTGTTATTATTGTAAACGTATTGGTTTGCATATGTTTCTTAAATACAAAATACCAGATTCAACTGGATTATAGTGTACCTAGTACCTTAATCAATTTAGATAGATCTTTAAAATATACGAACATAACGGTAGGAAAAGATTCCTTTCTTTGTATATTAGATAAGTCTGATAGTTTTGATACATGTGAGCAATATGATTTATTGAAAGAGGTTGATGATTTTTACCCTAATGGGTTTGACGAACATAAAGAAATAAATAATAATAATAATAATAATAAAAAGAAGAAGAGTTATAATAATAATTATAAAAATAATTATAATCATATCAGCAATAATGGTGACAATCAAATTAATAATGATTATGATACAACCTACAATAGGTATGATTATATAGAAGAACATCTAAATAAAAACTTTCTTCTAAAATATCAAGATAATAATAATATGAACTATAATTTATACCTAAAGGAAGATAACTACGAAATCGAATATCATAATGCACATTACTGGATGAATGTCCAAGATGAAAATATACAAGCAAGCGATCTTACACAAAATATTATTAAAGATGTTGGTGATAATAATACAAGTTATAAGAACAGTAATAATAACGGTTGGACTTGTAATAACGTATTGAATAAATTAAATAATAAATATTCCAAAGAATTAAAGGGGGGGAAAAAAAAAAAAAAAAAAAAAAAAAAAAAAGATAAAAAAAAAAAAAATCATTATGATTATTTTTCGAACGAAAGAAACGAAAAAGTTGATAAATTAAATAAGACATTTAATTGTAATTTTAAAAGGTTATATGATTATATTTTTTATAAACATAAAATTAATGCGTATCATAAATATAGAATATATAATAATATTAATGATGACGTATTATTAAAAAGTCATATAATAAAAGGGAAAATGTTAACCATAAATAATACATGTATTGATGCGTTTAATAATGGAAATATATTAAAAATATGTTTAAATAAATCTATATCATTTATAACAAAAAGATATCATACGAAACATAAAAAACATATCACTATATCTACTTATGCTATAGGAAAAGATTTATTATTTTCTAATAATACTGTTGTACAATATTATAGTGATGGCAAATATTTTTTTGAAGTATTATTTTTATGTGGTAATAATAATTTAAGAGTTAATAGTTTTGAAAAGCTGTATAATGTATATTATCCATTCATTTTCCAAATATATGAACATTTAAATACAACTATTACTAAACTTTATAATATTATAATAAAAAAATTAAAAGATAATGATGTATATTTTTTTAAATCATTTTCGAATTATCAATATACTGAAGATTATTATAAATCATTAAAACAAAAATTAATACACAATTTAAATTTATATTATCCTGAAGCTATATATTTATATCGTATTACATTAAGTGGATATATGTTTTGTAATTATACAGAGAAAATAAATCCACCAAATTTTTTTCTTTTAAAAAATCTGATGAATAAATGTCATCATTTTATTAGAGAAGATGATACCATGTTTGAAATATGTTTACCAT\n"
     ]
    }
   ],
   "source": [
    "print(sequence)"
   ]
  }
 ],
 "metadata": {
  "kernelspec": {
   "display_name": "Python 3",
   "language": "python",
   "name": "python3"
  },
  "language_info": {
   "codemirror_mode": {
    "name": "ipython",
    "version": 3
   },
   "file_extension": ".py",
   "mimetype": "text/x-python",
   "name": "python",
   "nbconvert_exporter": "python",
   "pygments_lexer": "ipython3",
   "version": "3.6.6"
  }
 },
 "nbformat": 4,
 "nbformat_minor": 2
}
